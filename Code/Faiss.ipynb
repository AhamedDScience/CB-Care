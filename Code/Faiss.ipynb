{
 "cells": [
  {
   "cell_type": "code",
   "execution_count": 2,
   "id": "7d733194-17ec-4ad0-bc23-0b7c532e5a5a",
   "metadata": {},
   "outputs": [
    {
     "name": "stderr",
     "output_type": "stream",
     "text": [
      "C:\\Users\\m\\anaconda3\\Lib\\site-packages\\langchain_core\\_api\\deprecation.py:119: LangChainDeprecationWarning: The method `BaseRetriever.get_relevant_documents` was deprecated in langchain-core 0.1.46 and will be removed in 0.3.0. Use invoke instead.\n",
      "  warn_deprecated(\n"
     ]
    },
    {
     "name": "stdout",
     "output_type": "stream",
     "text": [
      "page_content='prompt: Do you provide any virtual internship?\\nresponse: Yes' metadata={'source': 'Do you provide any virtual internship?', 'row': 14}\n",
      "page_content='prompt: Do you provide any job assistance?\\nresponse: Yes, We help you with resume and interview preparation along with that we help you in building online credibility, and based on requirements we refer candidates to potential recruiters.' metadata={'source': 'Do you provide any job assistance?', 'row': 11}\n",
      "page_content='prompt: Do we have an EMI option?\\nresponse: No' metadata={'source': 'Do we have an EMI option?', 'row': 13}\n",
      "page_content='prompt: Does this bootcamp have lifetime access?\\nresponse: Yes' metadata={'source': 'Does this bootcamp have lifetime access?', 'row': 7}\n"
     ]
    }
   ],
   "source": [
    "import os\n",
    "from langchain_google_genai import ChatGoogleGenerativeAI, GoogleGenerativeAIEmbeddings\n",
    "from langchain.document_loaders.csv_loader import CSVLoader\n",
    "from langchain.vectorstores import FAISS\n",
    "\n",
    "# Google API Key setup\n",
    "os.environ[\"GOOGLE_API_KEY\"] = 'YOUR_GOOGLE_API_KEY'\n",
    "\n",
    "# Initialize the Language Model (LLM) with specified parameters\n",
    "llm = ChatGoogleGenerativeAI(model=\"models/gemini-1.5-pro-latest\", temperature=0.9)\n",
    "\n",
    "# Load data from CSV file\n",
    "csv_file_path = 'codebasics_faqs.csv'\n",
    "loader = CSVLoader(file_path=csv_file_path, source_column=\"prompt\")\n",
    "data = loader.load()\n",
    "\n",
    "# Initialize embeddings model\n",
    "embeddings = GoogleGenerativeAIEmbeddings(model=\"models/embedding-001\")\n",
    "\n",
    "# Create a FAISS vector store instance from the loaded documents\n",
    "vectordb = FAISS.from_documents(documents=data, embedding=embeddings)\n",
    "\n",
    "# Create a retriever for querying the vector store with a score threshold\n",
    "retriever = vectordb.as_retriever(score_threshold=0.7)\n",
    "\n",
    "# Save the vector store locally\n",
    "vectordb_file_path = \"faiss_index\"\n",
    "vectordb.save_local(vectordb_file_path)\n",
    "\n",
    "# Query the retriever for relevant documents based on a query\n",
    "query = \"Do you provide any virtual internship?\"\n",
    "relevant_docs = retriever.get_relevant_documents(query)\n",
    "\n",
    "# Print the relevant documents\n",
    "for doc in relevant_docs:\n",
    "    print(doc)\n"
   ]
  },
  {
   "cell_type": "code",
   "execution_count": null,
   "id": "5f891936-933c-413f-b42b-e2124f85e4bf",
   "metadata": {},
   "outputs": [],
   "source": []
  }
 ],
 "metadata": {
  "kernelspec": {
   "display_name": "Python 3 (ipykernel)",
   "language": "python",
   "name": "python3"
  },
  "language_info": {
   "codemirror_mode": {
    "name": "ipython",
    "version": 3
   },
   "file_extension": ".py",
   "mimetype": "text/x-python",
   "name": "python",
   "nbconvert_exporter": "python",
   "pygments_lexer": "ipython3",
   "version": "3.11.7"
  }
 },
 "nbformat": 4,
 "nbformat_minor": 5
}
